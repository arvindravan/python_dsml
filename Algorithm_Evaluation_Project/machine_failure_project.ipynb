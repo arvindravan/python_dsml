{
 "cells": [
  {
   "cell_type": "markdown",
   "metadata": {},
   "source": [
    "### Machine failure Algorithm evaluation Projetc"
   ]
  },
  {
   "cell_type": "code",
   "execution_count": 1,
   "metadata": {},
   "outputs": [],
   "source": [
    "from warnings import filterwarnings\n",
    "filterwarnings(\"ignore\")"
   ]
  },
  {
   "cell_type": "markdown",
   "metadata": {},
   "source": [
    "#### Read the dataset"
   ]
  },
  {
   "cell_type": "code",
   "execution_count": 2,
   "metadata": {},
   "outputs": [
    {
     "data": {
      "text/html": [
       "<div>\n",
       "<style scoped>\n",
       "    .dataframe tbody tr th:only-of-type {\n",
       "        vertical-align: middle;\n",
       "    }\n",
       "\n",
       "    .dataframe tbody tr th {\n",
       "        vertical-align: top;\n",
       "    }\n",
       "\n",
       "    .dataframe thead th {\n",
       "        text-align: right;\n",
       "    }\n",
       "</style>\n",
       "<table border=\"1\" class=\"dataframe\">\n",
       "  <thead>\n",
       "    <tr style=\"text-align: right;\">\n",
       "      <th></th>\n",
       "      <th>id</th>\n",
       "      <th>Product ID</th>\n",
       "      <th>Type</th>\n",
       "      <th>Air temperature [K]</th>\n",
       "      <th>Process temperature [K]</th>\n",
       "      <th>Rotational speed [rpm]</th>\n",
       "      <th>Torque [Nm]</th>\n",
       "      <th>Tool wear [min]</th>\n",
       "      <th>Machine failure</th>\n",
       "      <th>TWF</th>\n",
       "      <th>HDF</th>\n",
       "      <th>PWF</th>\n",
       "      <th>OSF</th>\n",
       "      <th>RNF</th>\n",
       "    </tr>\n",
       "  </thead>\n",
       "  <tbody>\n",
       "    <tr>\n",
       "      <th>0</th>\n",
       "      <td>0</td>\n",
       "      <td>L50096</td>\n",
       "      <td>L</td>\n",
       "      <td>300.6</td>\n",
       "      <td>309.6</td>\n",
       "      <td>1596</td>\n",
       "      <td>36.1</td>\n",
       "      <td>140</td>\n",
       "      <td>0</td>\n",
       "      <td>0</td>\n",
       "      <td>0</td>\n",
       "      <td>0</td>\n",
       "      <td>0</td>\n",
       "      <td>0</td>\n",
       "    </tr>\n",
       "    <tr>\n",
       "      <th>1</th>\n",
       "      <td>1</td>\n",
       "      <td>M20343</td>\n",
       "      <td>M</td>\n",
       "      <td>302.6</td>\n",
       "      <td>312.1</td>\n",
       "      <td>1759</td>\n",
       "      <td>29.1</td>\n",
       "      <td>200</td>\n",
       "      <td>0</td>\n",
       "      <td>0</td>\n",
       "      <td>0</td>\n",
       "      <td>0</td>\n",
       "      <td>0</td>\n",
       "      <td>0</td>\n",
       "    </tr>\n",
       "    <tr>\n",
       "      <th>2</th>\n",
       "      <td>2</td>\n",
       "      <td>L49454</td>\n",
       "      <td>L</td>\n",
       "      <td>299.3</td>\n",
       "      <td>308.5</td>\n",
       "      <td>1805</td>\n",
       "      <td>26.5</td>\n",
       "      <td>25</td>\n",
       "      <td>0</td>\n",
       "      <td>0</td>\n",
       "      <td>0</td>\n",
       "      <td>0</td>\n",
       "      <td>0</td>\n",
       "      <td>0</td>\n",
       "    </tr>\n",
       "    <tr>\n",
       "      <th>3</th>\n",
       "      <td>3</td>\n",
       "      <td>L53355</td>\n",
       "      <td>L</td>\n",
       "      <td>301.0</td>\n",
       "      <td>310.9</td>\n",
       "      <td>1524</td>\n",
       "      <td>44.3</td>\n",
       "      <td>197</td>\n",
       "      <td>0</td>\n",
       "      <td>0</td>\n",
       "      <td>0</td>\n",
       "      <td>0</td>\n",
       "      <td>0</td>\n",
       "      <td>0</td>\n",
       "    </tr>\n",
       "    <tr>\n",
       "      <th>4</th>\n",
       "      <td>4</td>\n",
       "      <td>M24050</td>\n",
       "      <td>M</td>\n",
       "      <td>298.0</td>\n",
       "      <td>309.0</td>\n",
       "      <td>1641</td>\n",
       "      <td>35.4</td>\n",
       "      <td>34</td>\n",
       "      <td>0</td>\n",
       "      <td>0</td>\n",
       "      <td>0</td>\n",
       "      <td>0</td>\n",
       "      <td>0</td>\n",
       "      <td>0</td>\n",
       "    </tr>\n",
       "  </tbody>\n",
       "</table>\n",
       "</div>"
      ],
      "text/plain": [
       "   id Product ID Type  Air temperature [K]  Process temperature [K]  \\\n",
       "0   0     L50096    L                300.6                    309.6   \n",
       "1   1     M20343    M                302.6                    312.1   \n",
       "2   2     L49454    L                299.3                    308.5   \n",
       "3   3     L53355    L                301.0                    310.9   \n",
       "4   4     M24050    M                298.0                    309.0   \n",
       "\n",
       "   Rotational speed [rpm]  Torque [Nm]  Tool wear [min]  Machine failure  TWF  \\\n",
       "0                    1596         36.1              140                0    0   \n",
       "1                    1759         29.1              200                0    0   \n",
       "2                    1805         26.5               25                0    0   \n",
       "3                    1524         44.3              197                0    0   \n",
       "4                    1641         35.4               34                0    0   \n",
       "\n",
       "   HDF  PWF  OSF  RNF  \n",
       "0    0    0    0    0  \n",
       "1    0    0    0    0  \n",
       "2    0    0    0    0  \n",
       "3    0    0    0    0  \n",
       "4    0    0    0    0  "
      ]
     },
     "execution_count": 2,
     "metadata": {},
     "output_type": "execute_result"
    }
   ],
   "source": [
    "import pandas as pd\n",
    "df = pd.read_csv(\"train.csv\")\n",
    "df.head()"
   ]
  },
  {
   "cell_type": "code",
   "execution_count": 3,
   "metadata": {},
   "outputs": [
    {
     "name": "stdout",
     "output_type": "stream",
     "text": [
      "<class 'pandas.core.frame.DataFrame'>\n",
      "RangeIndex: 136429 entries, 0 to 136428\n",
      "Data columns (total 14 columns):\n",
      " #   Column                   Non-Null Count   Dtype  \n",
      "---  ------                   --------------   -----  \n",
      " 0   id                       136429 non-null  int64  \n",
      " 1   Product ID               136429 non-null  object \n",
      " 2   Type                     136429 non-null  object \n",
      " 3   Air temperature [K]      136429 non-null  float64\n",
      " 4   Process temperature [K]  136429 non-null  float64\n",
      " 5   Rotational speed [rpm]   136429 non-null  int64  \n",
      " 6   Torque [Nm]              136429 non-null  float64\n",
      " 7   Tool wear [min]          136429 non-null  int64  \n",
      " 8   Machine failure          136429 non-null  int64  \n",
      " 9   TWF                      136429 non-null  int64  \n",
      " 10  HDF                      136429 non-null  int64  \n",
      " 11  PWF                      136429 non-null  int64  \n",
      " 12  OSF                      136429 non-null  int64  \n",
      " 13  RNF                      136429 non-null  int64  \n",
      "dtypes: float64(3), int64(9), object(2)\n",
      "memory usage: 14.6+ MB\n"
     ]
    }
   ],
   "source": [
    "df.info()"
   ]
  },
  {
   "cell_type": "markdown",
   "metadata": {},
   "source": [
    "### Check for missing values"
   ]
  },
  {
   "cell_type": "code",
   "execution_count": 4,
   "metadata": {},
   "outputs": [
    {
     "data": {
      "text/plain": [
       "id                         0\n",
       "Product ID                 0\n",
       "Type                       0\n",
       "Air temperature [K]        0\n",
       "Process temperature [K]    0\n",
       "Rotational speed [rpm]     0\n",
       "Torque [Nm]                0\n",
       "Tool wear [min]            0\n",
       "Machine failure            0\n",
       "TWF                        0\n",
       "HDF                        0\n",
       "PWF                        0\n",
       "OSF                        0\n",
       "RNF                        0\n",
       "dtype: int64"
      ]
     },
     "execution_count": 4,
     "metadata": {},
     "output_type": "execute_result"
    }
   ],
   "source": [
    "s= df.isna().sum()\n",
    "s"
   ]
  },
  {
   "cell_type": "code",
   "execution_count": 5,
   "metadata": {},
   "outputs": [
    {
     "data": {
      "text/plain": [
       "Series([], dtype: int64)"
      ]
     },
     "execution_count": 5,
     "metadata": {},
     "output_type": "execute_result"
    }
   ],
   "source": [
    "s[s>0]"
   ]
  },
  {
   "cell_type": "markdown",
   "metadata": {},
   "source": [
    "### Seperate X and Y"
   ]
  },
  {
   "cell_type": "code",
   "execution_count": 6,
   "metadata": {},
   "outputs": [
    {
     "data": {
      "text/html": [
       "<div>\n",
       "<style scoped>\n",
       "    .dataframe tbody tr th:only-of-type {\n",
       "        vertical-align: middle;\n",
       "    }\n",
       "\n",
       "    .dataframe tbody tr th {\n",
       "        vertical-align: top;\n",
       "    }\n",
       "\n",
       "    .dataframe thead th {\n",
       "        text-align: right;\n",
       "    }\n",
       "</style>\n",
       "<table border=\"1\" class=\"dataframe\">\n",
       "  <thead>\n",
       "    <tr style=\"text-align: right;\">\n",
       "      <th></th>\n",
       "      <th>id</th>\n",
       "      <th>Product ID</th>\n",
       "      <th>Type</th>\n",
       "      <th>Air temperature [K]</th>\n",
       "      <th>Process temperature [K]</th>\n",
       "      <th>Rotational speed [rpm]</th>\n",
       "      <th>Torque [Nm]</th>\n",
       "      <th>Tool wear [min]</th>\n",
       "      <th>Machine failure</th>\n",
       "      <th>TWF</th>\n",
       "      <th>HDF</th>\n",
       "      <th>PWF</th>\n",
       "      <th>OSF</th>\n",
       "      <th>RNF</th>\n",
       "    </tr>\n",
       "  </thead>\n",
       "  <tbody>\n",
       "    <tr>\n",
       "      <th>0</th>\n",
       "      <td>0</td>\n",
       "      <td>L50096</td>\n",
       "      <td>L</td>\n",
       "      <td>300.6</td>\n",
       "      <td>309.6</td>\n",
       "      <td>1596</td>\n",
       "      <td>36.1</td>\n",
       "      <td>140</td>\n",
       "      <td>0</td>\n",
       "      <td>0</td>\n",
       "      <td>0</td>\n",
       "      <td>0</td>\n",
       "      <td>0</td>\n",
       "      <td>0</td>\n",
       "    </tr>\n",
       "    <tr>\n",
       "      <th>1</th>\n",
       "      <td>1</td>\n",
       "      <td>M20343</td>\n",
       "      <td>M</td>\n",
       "      <td>302.6</td>\n",
       "      <td>312.1</td>\n",
       "      <td>1759</td>\n",
       "      <td>29.1</td>\n",
       "      <td>200</td>\n",
       "      <td>0</td>\n",
       "      <td>0</td>\n",
       "      <td>0</td>\n",
       "      <td>0</td>\n",
       "      <td>0</td>\n",
       "      <td>0</td>\n",
       "    </tr>\n",
       "    <tr>\n",
       "      <th>2</th>\n",
       "      <td>2</td>\n",
       "      <td>L49454</td>\n",
       "      <td>L</td>\n",
       "      <td>299.3</td>\n",
       "      <td>308.5</td>\n",
       "      <td>1805</td>\n",
       "      <td>26.5</td>\n",
       "      <td>25</td>\n",
       "      <td>0</td>\n",
       "      <td>0</td>\n",
       "      <td>0</td>\n",
       "      <td>0</td>\n",
       "      <td>0</td>\n",
       "      <td>0</td>\n",
       "    </tr>\n",
       "    <tr>\n",
       "      <th>3</th>\n",
       "      <td>3</td>\n",
       "      <td>L53355</td>\n",
       "      <td>L</td>\n",
       "      <td>301.0</td>\n",
       "      <td>310.9</td>\n",
       "      <td>1524</td>\n",
       "      <td>44.3</td>\n",
       "      <td>197</td>\n",
       "      <td>0</td>\n",
       "      <td>0</td>\n",
       "      <td>0</td>\n",
       "      <td>0</td>\n",
       "      <td>0</td>\n",
       "      <td>0</td>\n",
       "    </tr>\n",
       "    <tr>\n",
       "      <th>4</th>\n",
       "      <td>4</td>\n",
       "      <td>M24050</td>\n",
       "      <td>M</td>\n",
       "      <td>298.0</td>\n",
       "      <td>309.0</td>\n",
       "      <td>1641</td>\n",
       "      <td>35.4</td>\n",
       "      <td>34</td>\n",
       "      <td>0</td>\n",
       "      <td>0</td>\n",
       "      <td>0</td>\n",
       "      <td>0</td>\n",
       "      <td>0</td>\n",
       "      <td>0</td>\n",
       "    </tr>\n",
       "  </tbody>\n",
       "</table>\n",
       "</div>"
      ],
      "text/plain": [
       "   id Product ID Type  Air temperature [K]  Process temperature [K]  \\\n",
       "0   0     L50096    L                300.6                    309.6   \n",
       "1   1     M20343    M                302.6                    312.1   \n",
       "2   2     L49454    L                299.3                    308.5   \n",
       "3   3     L53355    L                301.0                    310.9   \n",
       "4   4     M24050    M                298.0                    309.0   \n",
       "\n",
       "   Rotational speed [rpm]  Torque [Nm]  Tool wear [min]  Machine failure  TWF  \\\n",
       "0                    1596         36.1              140                0    0   \n",
       "1                    1759         29.1              200                0    0   \n",
       "2                    1805         26.5               25                0    0   \n",
       "3                    1524         44.3              197                0    0   \n",
       "4                    1641         35.4               34                0    0   \n",
       "\n",
       "   HDF  PWF  OSF  RNF  \n",
       "0    0    0    0    0  \n",
       "1    0    0    0    0  \n",
       "2    0    0    0    0  \n",
       "3    0    0    0    0  \n",
       "4    0    0    0    0  "
      ]
     },
     "execution_count": 6,
     "metadata": {},
     "output_type": "execute_result"
    }
   ],
   "source": [
    "df.head()"
   ]
  },
  {
   "cell_type": "code",
   "execution_count": 7,
   "metadata": {},
   "outputs": [],
   "source": [
    "X = df.drop(columns=['id','Product ID','Machine failure'])\n",
    "Y = df[['Machine failure']]"
   ]
  },
  {
   "cell_type": "code",
   "execution_count": 8,
   "metadata": {},
   "outputs": [
    {
     "data": {
      "text/html": [
       "<div>\n",
       "<style scoped>\n",
       "    .dataframe tbody tr th:only-of-type {\n",
       "        vertical-align: middle;\n",
       "    }\n",
       "\n",
       "    .dataframe tbody tr th {\n",
       "        vertical-align: top;\n",
       "    }\n",
       "\n",
       "    .dataframe thead th {\n",
       "        text-align: right;\n",
       "    }\n",
       "</style>\n",
       "<table border=\"1\" class=\"dataframe\">\n",
       "  <thead>\n",
       "    <tr style=\"text-align: right;\">\n",
       "      <th></th>\n",
       "      <th>Type</th>\n",
       "      <th>Air temperature [K]</th>\n",
       "      <th>Process temperature [K]</th>\n",
       "      <th>Rotational speed [rpm]</th>\n",
       "      <th>Torque [Nm]</th>\n",
       "      <th>Tool wear [min]</th>\n",
       "      <th>TWF</th>\n",
       "      <th>HDF</th>\n",
       "      <th>PWF</th>\n",
       "      <th>OSF</th>\n",
       "      <th>RNF</th>\n",
       "    </tr>\n",
       "  </thead>\n",
       "  <tbody>\n",
       "    <tr>\n",
       "      <th>0</th>\n",
       "      <td>L</td>\n",
       "      <td>300.6</td>\n",
       "      <td>309.6</td>\n",
       "      <td>1596</td>\n",
       "      <td>36.1</td>\n",
       "      <td>140</td>\n",
       "      <td>0</td>\n",
       "      <td>0</td>\n",
       "      <td>0</td>\n",
       "      <td>0</td>\n",
       "      <td>0</td>\n",
       "    </tr>\n",
       "    <tr>\n",
       "      <th>1</th>\n",
       "      <td>M</td>\n",
       "      <td>302.6</td>\n",
       "      <td>312.1</td>\n",
       "      <td>1759</td>\n",
       "      <td>29.1</td>\n",
       "      <td>200</td>\n",
       "      <td>0</td>\n",
       "      <td>0</td>\n",
       "      <td>0</td>\n",
       "      <td>0</td>\n",
       "      <td>0</td>\n",
       "    </tr>\n",
       "    <tr>\n",
       "      <th>2</th>\n",
       "      <td>L</td>\n",
       "      <td>299.3</td>\n",
       "      <td>308.5</td>\n",
       "      <td>1805</td>\n",
       "      <td>26.5</td>\n",
       "      <td>25</td>\n",
       "      <td>0</td>\n",
       "      <td>0</td>\n",
       "      <td>0</td>\n",
       "      <td>0</td>\n",
       "      <td>0</td>\n",
       "    </tr>\n",
       "    <tr>\n",
       "      <th>3</th>\n",
       "      <td>L</td>\n",
       "      <td>301.0</td>\n",
       "      <td>310.9</td>\n",
       "      <td>1524</td>\n",
       "      <td>44.3</td>\n",
       "      <td>197</td>\n",
       "      <td>0</td>\n",
       "      <td>0</td>\n",
       "      <td>0</td>\n",
       "      <td>0</td>\n",
       "      <td>0</td>\n",
       "    </tr>\n",
       "    <tr>\n",
       "      <th>4</th>\n",
       "      <td>M</td>\n",
       "      <td>298.0</td>\n",
       "      <td>309.0</td>\n",
       "      <td>1641</td>\n",
       "      <td>35.4</td>\n",
       "      <td>34</td>\n",
       "      <td>0</td>\n",
       "      <td>0</td>\n",
       "      <td>0</td>\n",
       "      <td>0</td>\n",
       "      <td>0</td>\n",
       "    </tr>\n",
       "  </tbody>\n",
       "</table>\n",
       "</div>"
      ],
      "text/plain": [
       "  Type  Air temperature [K]  Process temperature [K]  Rotational speed [rpm]  \\\n",
       "0    L                300.6                    309.6                    1596   \n",
       "1    M                302.6                    312.1                    1759   \n",
       "2    L                299.3                    308.5                    1805   \n",
       "3    L                301.0                    310.9                    1524   \n",
       "4    M                298.0                    309.0                    1641   \n",
       "\n",
       "   Torque [Nm]  Tool wear [min]  TWF  HDF  PWF  OSF  RNF  \n",
       "0         36.1              140    0    0    0    0    0  \n",
       "1         29.1              200    0    0    0    0    0  \n",
       "2         26.5               25    0    0    0    0    0  \n",
       "3         44.3              197    0    0    0    0    0  \n",
       "4         35.4               34    0    0    0    0    0  "
      ]
     },
     "execution_count": 8,
     "metadata": {},
     "output_type": "execute_result"
    }
   ],
   "source": [
    "X.head()"
   ]
  },
  {
   "cell_type": "code",
   "execution_count": 9,
   "metadata": {},
   "outputs": [
    {
     "data": {
      "text/html": [
       "<div>\n",
       "<style scoped>\n",
       "    .dataframe tbody tr th:only-of-type {\n",
       "        vertical-align: middle;\n",
       "    }\n",
       "\n",
       "    .dataframe tbody tr th {\n",
       "        vertical-align: top;\n",
       "    }\n",
       "\n",
       "    .dataframe thead th {\n",
       "        text-align: right;\n",
       "    }\n",
       "</style>\n",
       "<table border=\"1\" class=\"dataframe\">\n",
       "  <thead>\n",
       "    <tr style=\"text-align: right;\">\n",
       "      <th></th>\n",
       "      <th>Machine failure</th>\n",
       "    </tr>\n",
       "  </thead>\n",
       "  <tbody>\n",
       "    <tr>\n",
       "      <th>0</th>\n",
       "      <td>0</td>\n",
       "    </tr>\n",
       "    <tr>\n",
       "      <th>1</th>\n",
       "      <td>0</td>\n",
       "    </tr>\n",
       "    <tr>\n",
       "      <th>2</th>\n",
       "      <td>0</td>\n",
       "    </tr>\n",
       "    <tr>\n",
       "      <th>3</th>\n",
       "      <td>0</td>\n",
       "    </tr>\n",
       "    <tr>\n",
       "      <th>4</th>\n",
       "      <td>0</td>\n",
       "    </tr>\n",
       "  </tbody>\n",
       "</table>\n",
       "</div>"
      ],
      "text/plain": [
       "   Machine failure\n",
       "0                0\n",
       "1                0\n",
       "2                0\n",
       "3                0\n",
       "4                0"
      ]
     },
     "execution_count": 9,
     "metadata": {},
     "output_type": "execute_result"
    }
   ],
   "source": [
    "Y.head()"
   ]
  },
  {
   "cell_type": "markdown",
   "metadata": {},
   "source": [
    "#### For mutual information create feature selection pipeline"
   ]
  },
  {
   "cell_type": "markdown",
   "metadata": {},
   "source": [
    "#### Catagorical feature apply ordinal endcoding"
   ]
  },
  {
   "cell_type": "code",
   "execution_count": 10,
   "metadata": {},
   "outputs": [],
   "source": [
    "from sklearn.pipeline import Pipeline\n",
    "from sklearn.impute import SimpleImputer\n",
    "from sklearn.preprocessing import StandardScaler,OrdinalEncoder\n",
    "from sklearn.compose import ColumnTransformer"
   ]
  },
  {
   "cell_type": "code",
   "execution_count": 11,
   "metadata": {},
   "outputs": [],
   "source": [
    "## seperate cat and con features\n",
    "\n",
    "cat = list(X.columns[X.dtypes=='object'])\n",
    "\n",
    "con = list(X.columns[X.dtypes!='object'])"
   ]
  },
  {
   "cell_type": "code",
   "execution_count": 12,
   "metadata": {},
   "outputs": [
    {
     "data": {
      "text/plain": [
       "['Air temperature [K]',\n",
       " 'Process temperature [K]',\n",
       " 'Rotational speed [rpm]',\n",
       " 'Torque [Nm]',\n",
       " 'Tool wear [min]',\n",
       " 'TWF',\n",
       " 'HDF',\n",
       " 'PWF',\n",
       " 'OSF',\n",
       " 'RNF']"
      ]
     },
     "execution_count": 12,
     "metadata": {},
     "output_type": "execute_result"
    }
   ],
   "source": [
    "con"
   ]
  },
  {
   "cell_type": "code",
   "execution_count": 13,
   "metadata": {},
   "outputs": [
    {
     "data": {
      "text/plain": [
       "['Type']"
      ]
     },
     "execution_count": 13,
     "metadata": {},
     "output_type": "execute_result"
    }
   ],
   "source": [
    "cat"
   ]
  },
  {
   "cell_type": "code",
   "execution_count": 14,
   "metadata": {},
   "outputs": [],
   "source": [
    "## create numerical pipeline\n",
    "num_pipe1 = Pipeline(steps=[('imputer',SimpleImputer(strategy='median')),\n",
    "                           ('scaler',StandardScaler())])\n",
    "\n",
    "## create cat pipeline \n",
    "\n",
    "cat_pipe1 = Pipeline(steps=[('imputer',SimpleImputer(strategy='most_frequent')),\n",
    "                           ('ordinal',OrdinalEncoder())])\n",
    "\n",
    "## cobine cat and num pipeline\n",
    "\n",
    "pre1 = ColumnTransformer([('num',num_pipe1,con),\n",
    "                          ('cat',cat_pipe1,cat)])"
   ]
  },
  {
   "cell_type": "code",
   "execution_count": 15,
   "metadata": {},
   "outputs": [
    {
     "data": {
      "text/html": [
       "<style>#sk-container-id-1 {color: black;}#sk-container-id-1 pre{padding: 0;}#sk-container-id-1 div.sk-toggleable {background-color: white;}#sk-container-id-1 label.sk-toggleable__label {cursor: pointer;display: block;width: 100%;margin-bottom: 0;padding: 0.3em;box-sizing: border-box;text-align: center;}#sk-container-id-1 label.sk-toggleable__label-arrow:before {content: \"▸\";float: left;margin-right: 0.25em;color: #696969;}#sk-container-id-1 label.sk-toggleable__label-arrow:hover:before {color: black;}#sk-container-id-1 div.sk-estimator:hover label.sk-toggleable__label-arrow:before {color: black;}#sk-container-id-1 div.sk-toggleable__content {max-height: 0;max-width: 0;overflow: hidden;text-align: left;background-color: #f0f8ff;}#sk-container-id-1 div.sk-toggleable__content pre {margin: 0.2em;color: black;border-radius: 0.25em;background-color: #f0f8ff;}#sk-container-id-1 input.sk-toggleable__control:checked~div.sk-toggleable__content {max-height: 200px;max-width: 100%;overflow: auto;}#sk-container-id-1 input.sk-toggleable__control:checked~label.sk-toggleable__label-arrow:before {content: \"▾\";}#sk-container-id-1 div.sk-estimator input.sk-toggleable__control:checked~label.sk-toggleable__label {background-color: #d4ebff;}#sk-container-id-1 div.sk-label input.sk-toggleable__control:checked~label.sk-toggleable__label {background-color: #d4ebff;}#sk-container-id-1 input.sk-hidden--visually {border: 0;clip: rect(1px 1px 1px 1px);clip: rect(1px, 1px, 1px, 1px);height: 1px;margin: -1px;overflow: hidden;padding: 0;position: absolute;width: 1px;}#sk-container-id-1 div.sk-estimator {font-family: monospace;background-color: #f0f8ff;border: 1px dotted black;border-radius: 0.25em;box-sizing: border-box;margin-bottom: 0.5em;}#sk-container-id-1 div.sk-estimator:hover {background-color: #d4ebff;}#sk-container-id-1 div.sk-parallel-item::after {content: \"\";width: 100%;border-bottom: 1px solid gray;flex-grow: 1;}#sk-container-id-1 div.sk-label:hover label.sk-toggleable__label {background-color: #d4ebff;}#sk-container-id-1 div.sk-serial::before {content: \"\";position: absolute;border-left: 1px solid gray;box-sizing: border-box;top: 0;bottom: 0;left: 50%;z-index: 0;}#sk-container-id-1 div.sk-serial {display: flex;flex-direction: column;align-items: center;background-color: white;padding-right: 0.2em;padding-left: 0.2em;position: relative;}#sk-container-id-1 div.sk-item {position: relative;z-index: 1;}#sk-container-id-1 div.sk-parallel {display: flex;align-items: stretch;justify-content: center;background-color: white;position: relative;}#sk-container-id-1 div.sk-item::before, #sk-container-id-1 div.sk-parallel-item::before {content: \"\";position: absolute;border-left: 1px solid gray;box-sizing: border-box;top: 0;bottom: 0;left: 50%;z-index: -1;}#sk-container-id-1 div.sk-parallel-item {display: flex;flex-direction: column;z-index: 1;position: relative;background-color: white;}#sk-container-id-1 div.sk-parallel-item:first-child::after {align-self: flex-end;width: 50%;}#sk-container-id-1 div.sk-parallel-item:last-child::after {align-self: flex-start;width: 50%;}#sk-container-id-1 div.sk-parallel-item:only-child::after {width: 0;}#sk-container-id-1 div.sk-dashed-wrapped {border: 1px dashed gray;margin: 0 0.4em 0.5em 0.4em;box-sizing: border-box;padding-bottom: 0.4em;background-color: white;}#sk-container-id-1 div.sk-label label {font-family: monospace;font-weight: bold;display: inline-block;line-height: 1.2em;}#sk-container-id-1 div.sk-label-container {text-align: center;}#sk-container-id-1 div.sk-container {/* jupyter's `normalize.less` sets `[hidden] { display: none; }` but bootstrap.min.css set `[hidden] { display: none !important; }` so we also need the `!important` here to be able to override the default hidden behavior on the sphinx rendered scikit-learn.org. See: https://github.com/scikit-learn/scikit-learn/issues/21755 */display: inline-block !important;position: relative;}#sk-container-id-1 div.sk-text-repr-fallback {display: none;}</style><div id=\"sk-container-id-1\" class=\"sk-top-container\"><div class=\"sk-text-repr-fallback\"><pre>ColumnTransformer(transformers=[(&#x27;num&#x27;,\n",
       "                                 Pipeline(steps=[(&#x27;imputer&#x27;,\n",
       "                                                  SimpleImputer(strategy=&#x27;median&#x27;)),\n",
       "                                                 (&#x27;scaler&#x27;, StandardScaler())]),\n",
       "                                 [&#x27;Air temperature [K]&#x27;,\n",
       "                                  &#x27;Process temperature [K]&#x27;,\n",
       "                                  &#x27;Rotational speed [rpm]&#x27;, &#x27;Torque [Nm]&#x27;,\n",
       "                                  &#x27;Tool wear [min]&#x27;, &#x27;TWF&#x27;, &#x27;HDF&#x27;, &#x27;PWF&#x27;, &#x27;OSF&#x27;,\n",
       "                                  &#x27;RNF&#x27;]),\n",
       "                                (&#x27;cat&#x27;,\n",
       "                                 Pipeline(steps=[(&#x27;imputer&#x27;,\n",
       "                                                  SimpleImputer(strategy=&#x27;most_frequent&#x27;)),\n",
       "                                                 (&#x27;ordinal&#x27;,\n",
       "                                                  OrdinalEncoder())]),\n",
       "                                 [&#x27;Type&#x27;])])</pre><b>In a Jupyter environment, please rerun this cell to show the HTML representation or trust the notebook. <br />On GitHub, the HTML representation is unable to render, please try loading this page with nbviewer.org.</b></div><div class=\"sk-container\" hidden><div class=\"sk-item sk-dashed-wrapped\"><div class=\"sk-label-container\"><div class=\"sk-label sk-toggleable\"><input class=\"sk-toggleable__control sk-hidden--visually\" id=\"sk-estimator-id-1\" type=\"checkbox\" ><label for=\"sk-estimator-id-1\" class=\"sk-toggleable__label sk-toggleable__label-arrow\">ColumnTransformer</label><div class=\"sk-toggleable__content\"><pre>ColumnTransformer(transformers=[(&#x27;num&#x27;,\n",
       "                                 Pipeline(steps=[(&#x27;imputer&#x27;,\n",
       "                                                  SimpleImputer(strategy=&#x27;median&#x27;)),\n",
       "                                                 (&#x27;scaler&#x27;, StandardScaler())]),\n",
       "                                 [&#x27;Air temperature [K]&#x27;,\n",
       "                                  &#x27;Process temperature [K]&#x27;,\n",
       "                                  &#x27;Rotational speed [rpm]&#x27;, &#x27;Torque [Nm]&#x27;,\n",
       "                                  &#x27;Tool wear [min]&#x27;, &#x27;TWF&#x27;, &#x27;HDF&#x27;, &#x27;PWF&#x27;, &#x27;OSF&#x27;,\n",
       "                                  &#x27;RNF&#x27;]),\n",
       "                                (&#x27;cat&#x27;,\n",
       "                                 Pipeline(steps=[(&#x27;imputer&#x27;,\n",
       "                                                  SimpleImputer(strategy=&#x27;most_frequent&#x27;)),\n",
       "                                                 (&#x27;ordinal&#x27;,\n",
       "                                                  OrdinalEncoder())]),\n",
       "                                 [&#x27;Type&#x27;])])</pre></div></div></div><div class=\"sk-parallel\"><div class=\"sk-parallel-item\"><div class=\"sk-item\"><div class=\"sk-label-container\"><div class=\"sk-label sk-toggleable\"><input class=\"sk-toggleable__control sk-hidden--visually\" id=\"sk-estimator-id-2\" type=\"checkbox\" ><label for=\"sk-estimator-id-2\" class=\"sk-toggleable__label sk-toggleable__label-arrow\">num</label><div class=\"sk-toggleable__content\"><pre>[&#x27;Air temperature [K]&#x27;, &#x27;Process temperature [K]&#x27;, &#x27;Rotational speed [rpm]&#x27;, &#x27;Torque [Nm]&#x27;, &#x27;Tool wear [min]&#x27;, &#x27;TWF&#x27;, &#x27;HDF&#x27;, &#x27;PWF&#x27;, &#x27;OSF&#x27;, &#x27;RNF&#x27;]</pre></div></div></div><div class=\"sk-serial\"><div class=\"sk-item\"><div class=\"sk-serial\"><div class=\"sk-item\"><div class=\"sk-estimator sk-toggleable\"><input class=\"sk-toggleable__control sk-hidden--visually\" id=\"sk-estimator-id-3\" type=\"checkbox\" ><label for=\"sk-estimator-id-3\" class=\"sk-toggleable__label sk-toggleable__label-arrow\">SimpleImputer</label><div class=\"sk-toggleable__content\"><pre>SimpleImputer(strategy=&#x27;median&#x27;)</pre></div></div></div><div class=\"sk-item\"><div class=\"sk-estimator sk-toggleable\"><input class=\"sk-toggleable__control sk-hidden--visually\" id=\"sk-estimator-id-4\" type=\"checkbox\" ><label for=\"sk-estimator-id-4\" class=\"sk-toggleable__label sk-toggleable__label-arrow\">StandardScaler</label><div class=\"sk-toggleable__content\"><pre>StandardScaler()</pre></div></div></div></div></div></div></div></div><div class=\"sk-parallel-item\"><div class=\"sk-item\"><div class=\"sk-label-container\"><div class=\"sk-label sk-toggleable\"><input class=\"sk-toggleable__control sk-hidden--visually\" id=\"sk-estimator-id-5\" type=\"checkbox\" ><label for=\"sk-estimator-id-5\" class=\"sk-toggleable__label sk-toggleable__label-arrow\">cat</label><div class=\"sk-toggleable__content\"><pre>[&#x27;Type&#x27;]</pre></div></div></div><div class=\"sk-serial\"><div class=\"sk-item\"><div class=\"sk-serial\"><div class=\"sk-item\"><div class=\"sk-estimator sk-toggleable\"><input class=\"sk-toggleable__control sk-hidden--visually\" id=\"sk-estimator-id-6\" type=\"checkbox\" ><label for=\"sk-estimator-id-6\" class=\"sk-toggleable__label sk-toggleable__label-arrow\">SimpleImputer</label><div class=\"sk-toggleable__content\"><pre>SimpleImputer(strategy=&#x27;most_frequent&#x27;)</pre></div></div></div><div class=\"sk-item\"><div class=\"sk-estimator sk-toggleable\"><input class=\"sk-toggleable__control sk-hidden--visually\" id=\"sk-estimator-id-7\" type=\"checkbox\" ><label for=\"sk-estimator-id-7\" class=\"sk-toggleable__label sk-toggleable__label-arrow\">OrdinalEncoder</label><div class=\"sk-toggleable__content\"><pre>OrdinalEncoder()</pre></div></div></div></div></div></div></div></div></div></div></div></div>"
      ],
      "text/plain": [
       "ColumnTransformer(transformers=[('num',\n",
       "                                 Pipeline(steps=[('imputer',\n",
       "                                                  SimpleImputer(strategy='median')),\n",
       "                                                 ('scaler', StandardScaler())]),\n",
       "                                 ['Air temperature [K]',\n",
       "                                  'Process temperature [K]',\n",
       "                                  'Rotational speed [rpm]', 'Torque [Nm]',\n",
       "                                  'Tool wear [min]', 'TWF', 'HDF', 'PWF', 'OSF',\n",
       "                                  'RNF']),\n",
       "                                ('cat',\n",
       "                                 Pipeline(steps=[('imputer',\n",
       "                                                  SimpleImputer(strategy='most_frequent')),\n",
       "                                                 ('ordinal',\n",
       "                                                  OrdinalEncoder())]),\n",
       "                                 ['Type'])])"
      ]
     },
     "execution_count": 15,
     "metadata": {},
     "output_type": "execute_result"
    }
   ],
   "source": [
    "pre1"
   ]
  },
  {
   "cell_type": "code",
   "execution_count": 16,
   "metadata": {},
   "outputs": [
    {
     "data": {
      "text/plain": [
       "array([[ 0.3958803 , -0.24623038,  0.54541592, ..., -0.06303833,\n",
       "        -0.04756777,  1.        ],\n",
       "       [ 1.46985559,  1.55860483,  1.72030819, ..., -0.06303833,\n",
       "        -0.04756777,  2.        ],\n",
       "       [-0.30220363, -1.04035788,  2.05187289, ..., -0.06303833,\n",
       "        -0.04756777,  1.        ],\n",
       "       ...,\n",
       "       [ 0.34218154,  1.34202461,  0.0264451 , ..., -0.06303833,\n",
       "        -0.04756777,  1.        ],\n",
       "       [ 0.98656671,  0.69228393, -0.52856537, ..., -0.06303833,\n",
       "        -0.04756777,  1.        ],\n",
       "       [-1.59097397, -1.32913151,  0.26430672, ..., -0.06303833,\n",
       "        -0.04756777,  1.        ]])"
      ]
     },
     "execution_count": 16,
     "metadata": {},
     "output_type": "execute_result"
    }
   ],
   "source": [
    "X_pre = pre1.fit_transform(X)\n",
    "X_pre"
   ]
  },
  {
   "cell_type": "code",
   "execution_count": 17,
   "metadata": {},
   "outputs": [
    {
     "data": {
      "text/plain": [
       "array(['num__Air temperature [K]', 'num__Process temperature [K]',\n",
       "       'num__Rotational speed [rpm]', 'num__Torque [Nm]',\n",
       "       'num__Tool wear [min]', 'num__TWF', 'num__HDF', 'num__PWF',\n",
       "       'num__OSF', 'num__RNF', 'cat__Type'], dtype=object)"
      ]
     },
     "execution_count": 17,
     "metadata": {},
     "output_type": "execute_result"
    }
   ],
   "source": [
    "cols = pre1.get_feature_names_out()\n",
    "cols"
   ]
  },
  {
   "cell_type": "code",
   "execution_count": 18,
   "metadata": {},
   "outputs": [
    {
     "data": {
      "text/html": [
       "<div>\n",
       "<style scoped>\n",
       "    .dataframe tbody tr th:only-of-type {\n",
       "        vertical-align: middle;\n",
       "    }\n",
       "\n",
       "    .dataframe tbody tr th {\n",
       "        vertical-align: top;\n",
       "    }\n",
       "\n",
       "    .dataframe thead th {\n",
       "        text-align: right;\n",
       "    }\n",
       "</style>\n",
       "<table border=\"1\" class=\"dataframe\">\n",
       "  <thead>\n",
       "    <tr style=\"text-align: right;\">\n",
       "      <th></th>\n",
       "      <th>num__Air temperature [K]</th>\n",
       "      <th>num__Process temperature [K]</th>\n",
       "      <th>num__Rotational speed [rpm]</th>\n",
       "      <th>num__Torque [Nm]</th>\n",
       "      <th>num__Tool wear [min]</th>\n",
       "      <th>num__TWF</th>\n",
       "      <th>num__HDF</th>\n",
       "      <th>num__PWF</th>\n",
       "      <th>num__OSF</th>\n",
       "      <th>num__RNF</th>\n",
       "      <th>cat__Type</th>\n",
       "    </tr>\n",
       "  </thead>\n",
       "  <tbody>\n",
       "    <tr>\n",
       "      <th>0</th>\n",
       "      <td>0.395880</td>\n",
       "      <td>-0.246230</td>\n",
       "      <td>0.545416</td>\n",
       "      <td>-0.499711</td>\n",
       "      <td>0.556417</td>\n",
       "      <td>-0.03945</td>\n",
       "      <td>-0.072021</td>\n",
       "      <td>-0.049016</td>\n",
       "      <td>-0.063038</td>\n",
       "      <td>-0.047568</td>\n",
       "      <td>1.0</td>\n",
       "    </tr>\n",
       "    <tr>\n",
       "      <th>1</th>\n",
       "      <td>1.469856</td>\n",
       "      <td>1.558605</td>\n",
       "      <td>1.720308</td>\n",
       "      <td>-1.323028</td>\n",
       "      <td>1.494433</td>\n",
       "      <td>-0.03945</td>\n",
       "      <td>-0.072021</td>\n",
       "      <td>-0.049016</td>\n",
       "      <td>-0.063038</td>\n",
       "      <td>-0.047568</td>\n",
       "      <td>2.0</td>\n",
       "    </tr>\n",
       "    <tr>\n",
       "      <th>2</th>\n",
       "      <td>-0.302204</td>\n",
       "      <td>-1.040358</td>\n",
       "      <td>2.051873</td>\n",
       "      <td>-1.628831</td>\n",
       "      <td>-1.241447</td>\n",
       "      <td>-0.03945</td>\n",
       "      <td>-0.072021</td>\n",
       "      <td>-0.049016</td>\n",
       "      <td>-0.063038</td>\n",
       "      <td>-0.047568</td>\n",
       "      <td>1.0</td>\n",
       "    </tr>\n",
       "    <tr>\n",
       "      <th>3</th>\n",
       "      <td>0.610675</td>\n",
       "      <td>0.692284</td>\n",
       "      <td>0.026445</td>\n",
       "      <td>0.464745</td>\n",
       "      <td>1.447532</td>\n",
       "      <td>-0.03945</td>\n",
       "      <td>-0.072021</td>\n",
       "      <td>-0.049016</td>\n",
       "      <td>-0.063038</td>\n",
       "      <td>-0.047568</td>\n",
       "      <td>1.0</td>\n",
       "    </tr>\n",
       "    <tr>\n",
       "      <th>4</th>\n",
       "      <td>-1.000288</td>\n",
       "      <td>-0.679391</td>\n",
       "      <td>0.869773</td>\n",
       "      <td>-0.582043</td>\n",
       "      <td>-1.100744</td>\n",
       "      <td>-0.03945</td>\n",
       "      <td>-0.072021</td>\n",
       "      <td>-0.049016</td>\n",
       "      <td>-0.063038</td>\n",
       "      <td>-0.047568</td>\n",
       "      <td>2.0</td>\n",
       "    </tr>\n",
       "    <tr>\n",
       "      <th>...</th>\n",
       "      <td>...</td>\n",
       "      <td>...</td>\n",
       "      <td>...</td>\n",
       "      <td>...</td>\n",
       "      <td>...</td>\n",
       "      <td>...</td>\n",
       "      <td>...</td>\n",
       "      <td>...</td>\n",
       "      <td>...</td>\n",
       "      <td>...</td>\n",
       "      <td>...</td>\n",
       "    </tr>\n",
       "    <tr>\n",
       "      <th>136424</th>\n",
       "      <td>0.127386</td>\n",
       "      <td>1.053251</td>\n",
       "      <td>0.069693</td>\n",
       "      <td>-0.335048</td>\n",
       "      <td>1.650769</td>\n",
       "      <td>-0.03945</td>\n",
       "      <td>-0.072021</td>\n",
       "      <td>-0.049016</td>\n",
       "      <td>-0.063038</td>\n",
       "      <td>-0.047568</td>\n",
       "      <td>2.0</td>\n",
       "    </tr>\n",
       "    <tr>\n",
       "      <th>136425</th>\n",
       "      <td>-1.268781</td>\n",
       "      <td>-1.040358</td>\n",
       "      <td>-0.528565</td>\n",
       "      <td>1.029305</td>\n",
       "      <td>-1.601020</td>\n",
       "      <td>-0.03945</td>\n",
       "      <td>-0.072021</td>\n",
       "      <td>-0.049016</td>\n",
       "      <td>-0.063038</td>\n",
       "      <td>-0.047568</td>\n",
       "      <td>0.0</td>\n",
       "    </tr>\n",
       "    <tr>\n",
       "      <th>136426</th>\n",
       "      <td>0.342182</td>\n",
       "      <td>1.342025</td>\n",
       "      <td>0.026445</td>\n",
       "      <td>-0.217431</td>\n",
       "      <td>1.713303</td>\n",
       "      <td>-0.03945</td>\n",
       "      <td>-0.072021</td>\n",
       "      <td>-0.049016</td>\n",
       "      <td>-0.063038</td>\n",
       "      <td>-0.047568</td>\n",
       "      <td>1.0</td>\n",
       "    </tr>\n",
       "    <tr>\n",
       "      <th>136427</th>\n",
       "      <td>0.986567</td>\n",
       "      <td>0.692284</td>\n",
       "      <td>-0.528565</td>\n",
       "      <td>0.699979</td>\n",
       "      <td>-0.975676</td>\n",
       "      <td>-0.03945</td>\n",
       "      <td>-0.072021</td>\n",
       "      <td>-0.049016</td>\n",
       "      <td>-0.063038</td>\n",
       "      <td>-0.047568</td>\n",
       "      <td>1.0</td>\n",
       "    </tr>\n",
       "    <tr>\n",
       "      <th>136428</th>\n",
       "      <td>-1.590974</td>\n",
       "      <td>-1.329132</td>\n",
       "      <td>0.264307</td>\n",
       "      <td>-0.123338</td>\n",
       "      <td>1.947807</td>\n",
       "      <td>-0.03945</td>\n",
       "      <td>-0.072021</td>\n",
       "      <td>-0.049016</td>\n",
       "      <td>-0.063038</td>\n",
       "      <td>-0.047568</td>\n",
       "      <td>1.0</td>\n",
       "    </tr>\n",
       "  </tbody>\n",
       "</table>\n",
       "<p>136429 rows × 11 columns</p>\n",
       "</div>"
      ],
      "text/plain": [
       "        num__Air temperature [K]  num__Process temperature [K]  \\\n",
       "0                       0.395880                     -0.246230   \n",
       "1                       1.469856                      1.558605   \n",
       "2                      -0.302204                     -1.040358   \n",
       "3                       0.610675                      0.692284   \n",
       "4                      -1.000288                     -0.679391   \n",
       "...                          ...                           ...   \n",
       "136424                  0.127386                      1.053251   \n",
       "136425                 -1.268781                     -1.040358   \n",
       "136426                  0.342182                      1.342025   \n",
       "136427                  0.986567                      0.692284   \n",
       "136428                 -1.590974                     -1.329132   \n",
       "\n",
       "        num__Rotational speed [rpm]  num__Torque [Nm]  num__Tool wear [min]  \\\n",
       "0                          0.545416         -0.499711              0.556417   \n",
       "1                          1.720308         -1.323028              1.494433   \n",
       "2                          2.051873         -1.628831             -1.241447   \n",
       "3                          0.026445          0.464745              1.447532   \n",
       "4                          0.869773         -0.582043             -1.100744   \n",
       "...                             ...               ...                   ...   \n",
       "136424                     0.069693         -0.335048              1.650769   \n",
       "136425                    -0.528565          1.029305             -1.601020   \n",
       "136426                     0.026445         -0.217431              1.713303   \n",
       "136427                    -0.528565          0.699979             -0.975676   \n",
       "136428                     0.264307         -0.123338              1.947807   \n",
       "\n",
       "        num__TWF  num__HDF  num__PWF  num__OSF  num__RNF  cat__Type  \n",
       "0       -0.03945 -0.072021 -0.049016 -0.063038 -0.047568        1.0  \n",
       "1       -0.03945 -0.072021 -0.049016 -0.063038 -0.047568        2.0  \n",
       "2       -0.03945 -0.072021 -0.049016 -0.063038 -0.047568        1.0  \n",
       "3       -0.03945 -0.072021 -0.049016 -0.063038 -0.047568        1.0  \n",
       "4       -0.03945 -0.072021 -0.049016 -0.063038 -0.047568        2.0  \n",
       "...          ...       ...       ...       ...       ...        ...  \n",
       "136424  -0.03945 -0.072021 -0.049016 -0.063038 -0.047568        2.0  \n",
       "136425  -0.03945 -0.072021 -0.049016 -0.063038 -0.047568        0.0  \n",
       "136426  -0.03945 -0.072021 -0.049016 -0.063038 -0.047568        1.0  \n",
       "136427  -0.03945 -0.072021 -0.049016 -0.063038 -0.047568        1.0  \n",
       "136428  -0.03945 -0.072021 -0.049016 -0.063038 -0.047568        1.0  \n",
       "\n",
       "[136429 rows x 11 columns]"
      ]
     },
     "execution_count": 18,
     "metadata": {},
     "output_type": "execute_result"
    }
   ],
   "source": [
    "X_pre= pd.DataFrame(X_pre,columns=cols)\n",
    "X_pre\n"
   ]
  },
  {
   "cell_type": "markdown",
   "metadata": {},
   "source": [
    "### Mutual information score"
   ]
  },
  {
   "cell_type": "code",
   "execution_count": 19,
   "metadata": {},
   "outputs": [
    {
     "data": {
      "text/plain": [
       "array([0.005181  , 0.00154064, 0.01944274, 0.01952401, 0.00679348,\n",
       "       0.00762497, 0.02449682, 0.01161731, 0.01910901, 0.00033757,\n",
       "       0.01157468])"
      ]
     },
     "execution_count": 19,
     "metadata": {},
     "output_type": "execute_result"
    }
   ],
   "source": [
    "from sklearn.feature_selection import mutual_info_classif\n",
    "mi = mutual_info_classif(X_pre,Y)\n",
    "mi"
   ]
  },
  {
   "cell_type": "code",
   "execution_count": 20,
   "metadata": {},
   "outputs": [
    {
     "data": {
      "text/plain": [
       "num__HDF                        0.024497\n",
       "num__Torque [Nm]                0.019524\n",
       "num__Rotational speed [rpm]     0.019443\n",
       "num__OSF                        0.019109\n",
       "num__PWF                        0.011617\n",
       "cat__Type                       0.011575\n",
       "num__TWF                        0.007625\n",
       "num__Tool wear [min]            0.006793\n",
       "num__Air temperature [K]        0.005181\n",
       "num__Process temperature [K]    0.001541\n",
       "num__RNF                        0.000338\n",
       "dtype: float64"
      ]
     },
     "execution_count": 20,
     "metadata": {},
     "output_type": "execute_result"
    }
   ],
   "source": [
    "mi = pd.Series(mi)\n",
    "mi.index = X_pre.columns\n",
    "mi = mi.sort_values(ascending=False)\n",
    "mi"
   ]
  },
  {
   "cell_type": "code",
   "execution_count": 21,
   "metadata": {},
   "outputs": [
    {
     "data": {
      "text/plain": [
       "<Axes: title={'center': 'mutual_info_classif'}>"
      ]
     },
     "execution_count": 21,
     "metadata": {},
     "output_type": "execute_result"
    },
    {
     "data": {
      "image/png": "[encoded data removed]",
      "text/plain": [
       "<Figure size 640x480 with 1 Axes>"
      ]
     },
     "metadata": {},
     "output_type": "display_data"
    }
   ],
   "source": [
    "mi.plot(kind='bar',title='mutual_info_classif')"
   ]
  },
  {
   "cell_type": "markdown",
   "metadata": {},
   "source": [
    "### Create a final pipeline "
   ]
  },
  {
   "cell_type": "code",
   "execution_count": 22,
   "metadata": {},
   "outputs": [
    {
     "data": {
      "text/html": [
       "<style>#sk-container-id-2 {color: black;}#sk-container-id-2 pre{padding: 0;}#sk-container-id-2 div.sk-toggleable {background-color: white;}#sk-container-id-2 label.sk-toggleable__label {cursor: pointer;display: block;width: 100%;margin-bottom: 0;padding: 0.3em;box-sizing: border-box;text-align: center;}#sk-container-id-2 label.sk-toggleable__label-arrow:before {content: \"▸\";float: left;margin-right: 0.25em;color: #696969;}#sk-container-id-2 label.sk-toggleable__label-arrow:hover:before {color: black;}#sk-container-id-2 div.sk-estimator:hover label.sk-toggleable__label-arrow:before {color: black;}#sk-container-id-2 div.sk-toggleable__content {max-height: 0;max-width: 0;overflow: hidden;text-align: left;background-color: #f0f8ff;}#sk-container-id-2 div.sk-toggleable__content pre {margin: 0.2em;color: black;border-radius: 0.25em;background-color: #f0f8ff;}#sk-container-id-2 input.sk-toggleable__control:checked~div.sk-toggleable__content {max-height: 200px;max-width: 100%;overflow: auto;}#sk-container-id-2 input.sk-toggleable__control:checked~label.sk-toggleable__label-arrow:before {content: \"▾\";}#sk-container-id-2 div.sk-estimator input.sk-toggleable__control:checked~label.sk-toggleable__label {background-color: #d4ebff;}#sk-container-id-2 div.sk-label input.sk-toggleable__control:checked~label.sk-toggleable__label {background-color: #d4ebff;}#sk-container-id-2 input.sk-hidden--visually {border: 0;clip: rect(1px 1px 1px 1px);clip: rect(1px, 1px, 1px, 1px);height: 1px;margin: -1px;overflow: hidden;padding: 0;position: absolute;width: 1px;}#sk-container-id-2 div.sk-estimator {font-family: monospace;background-color: #f0f8ff;border: 1px dotted black;border-radius: 0.25em;box-sizing: border-box;margin-bottom: 0.5em;}#sk-container-id-2 div.sk-estimator:hover {background-color: #d4ebff;}#sk-container-id-2 div.sk-parallel-item::after {content: \"\";width: 100%;border-bottom: 1px solid gray;flex-grow: 1;}#sk-container-id-2 div.sk-label:hover label.sk-toggleable__label {background-color: #d4ebff;}#sk-container-id-2 div.sk-serial::before {content: \"\";position: absolute;border-left: 1px solid gray;box-sizing: border-box;top: 0;bottom: 0;left: 50%;z-index: 0;}#sk-container-id-2 div.sk-serial {display: flex;flex-direction: column;align-items: center;background-color: white;padding-right: 0.2em;padding-left: 0.2em;position: relative;}#sk-container-id-2 div.sk-item {position: relative;z-index: 1;}#sk-container-id-2 div.sk-parallel {display: flex;align-items: stretch;justify-content: center;background-color: white;position: relative;}#sk-container-id-2 div.sk-item::before, #sk-container-id-2 div.sk-parallel-item::before {content: \"\";position: absolute;border-left: 1px solid gray;box-sizing: border-box;top: 0;bottom: 0;left: 50%;z-index: -1;}#sk-container-id-2 div.sk-parallel-item {display: flex;flex-direction: column;z-index: 1;position: relative;background-color: white;}#sk-container-id-2 div.sk-parallel-item:first-child::after {align-self: flex-end;width: 50%;}#sk-container-id-2 div.sk-parallel-item:last-child::after {align-self: flex-start;width: 50%;}#sk-container-id-2 div.sk-parallel-item:only-child::after {width: 0;}#sk-container-id-2 div.sk-dashed-wrapped {border: 1px dashed gray;margin: 0 0.4em 0.5em 0.4em;box-sizing: border-box;padding-bottom: 0.4em;background-color: white;}#sk-container-id-2 div.sk-label label {font-family: monospace;font-weight: bold;display: inline-block;line-height: 1.2em;}#sk-container-id-2 div.sk-label-container {text-align: center;}#sk-container-id-2 div.sk-container {/* jupyter's `normalize.less` sets `[hidden] { display: none; }` but bootstrap.min.css set `[hidden] { display: none !important; }` so we also need the `!important` here to be able to override the default hidden behavior on the sphinx rendered scikit-learn.org. See: https://github.com/scikit-learn/scikit-learn/issues/21755 */display: inline-block !important;position: relative;}#sk-container-id-2 div.sk-text-repr-fallback {display: none;}</style><div id=\"sk-container-id-2\" class=\"sk-top-container\"><div class=\"sk-text-repr-fallback\"><pre>ColumnTransformer(transformers=[(&#x27;num&#x27;,\n",
       "                                 Pipeline(steps=[(&#x27;imputer&#x27;,\n",
       "                                                  SimpleImputer(strategy=&#x27;median&#x27;)),\n",
       "                                                 (&#x27;scaler&#x27;, StandardScaler())]),\n",
       "                                 [&#x27;Air temperature [K]&#x27;,\n",
       "                                  &#x27;Process temperature [K]&#x27;,\n",
       "                                  &#x27;Rotational speed [rpm]&#x27;, &#x27;Torque [Nm]&#x27;,\n",
       "                                  &#x27;Tool wear [min]&#x27;, &#x27;TWF&#x27;, &#x27;HDF&#x27;, &#x27;PWF&#x27;, &#x27;OSF&#x27;,\n",
       "                                  &#x27;RNF&#x27;]),\n",
       "                                (&#x27;cat&#x27;,\n",
       "                                 Pipeline(steps=[(&#x27;imputer&#x27;,\n",
       "                                                  SimpleImputer(strategy=&#x27;most_frequent&#x27;)),\n",
       "                                                 (&#x27;ohe&#x27;, OneHotEncoder())]),\n",
       "                                 [&#x27;Type&#x27;])])</pre><b>In a Jupyter environment, please rerun this cell to show the HTML representation or trust the notebook. <br />On GitHub, the HTML representation is unable to render, please try loading this page with nbviewer.org.</b></div><div class=\"sk-container\" hidden><div class=\"sk-item sk-dashed-wrapped\"><div class=\"sk-label-container\"><div class=\"sk-label sk-toggleable\"><input class=\"sk-toggleable__control sk-hidden--visually\" id=\"sk-estimator-id-8\" type=\"checkbox\" ><label for=\"sk-estimator-id-8\" class=\"sk-toggleable__label sk-toggleable__label-arrow\">ColumnTransformer</label><div class=\"sk-toggleable__content\"><pre>ColumnTransformer(transformers=[(&#x27;num&#x27;,\n",
       "                                 Pipeline(steps=[(&#x27;imputer&#x27;,\n",
       "                                                  SimpleImputer(strategy=&#x27;median&#x27;)),\n",
       "                                                 (&#x27;scaler&#x27;, StandardScaler())]),\n",
       "                                 [&#x27;Air temperature [K]&#x27;,\n",
       "                                  &#x27;Process temperature [K]&#x27;,\n",
       "                                  &#x27;Rotational speed [rpm]&#x27;, &#x27;Torque [Nm]&#x27;,\n",
       "                                  &#x27;Tool wear [min]&#x27;, &#x27;TWF&#x27;, &#x27;HDF&#x27;, &#x27;PWF&#x27;, &#x27;OSF&#x27;,\n",
       "                                  &#x27;RNF&#x27;]),\n",
       "                                (&#x27;cat&#x27;,\n",
       "                                 Pipeline(steps=[(&#x27;imputer&#x27;,\n",
       "                                                  SimpleImputer(strategy=&#x27;most_frequent&#x27;)),\n",
       "                                                 (&#x27;ohe&#x27;, OneHotEncoder())]),\n",
       "                                 [&#x27;Type&#x27;])])</pre></div></div></div><div class=\"sk-parallel\"><div class=\"sk-parallel-item\"><div class=\"sk-item\"><div class=\"sk-label-container\"><div class=\"sk-label sk-toggleable\"><input class=\"sk-toggleable__control sk-hidden--visually\" id=\"sk-estimator-id-9\" type=\"checkbox\" ><label for=\"sk-estimator-id-9\" class=\"sk-toggleable__label sk-toggleable__label-arrow\">num</label><div class=\"sk-toggleable__content\"><pre>[&#x27;Air temperature [K]&#x27;, &#x27;Process temperature [K]&#x27;, &#x27;Rotational speed [rpm]&#x27;, &#x27;Torque [Nm]&#x27;, &#x27;Tool wear [min]&#x27;, &#x27;TWF&#x27;, &#x27;HDF&#x27;, &#x27;PWF&#x27;, &#x27;OSF&#x27;, &#x27;RNF&#x27;]</pre></div></div></div><div class=\"sk-serial\"><div class=\"sk-item\"><div class=\"sk-serial\"><div class=\"sk-item\"><div class=\"sk-estimator sk-toggleable\"><input class=\"sk-toggleable__control sk-hidden--visually\" id=\"sk-estimator-id-10\" type=\"checkbox\" ><label for=\"sk-estimator-id-10\" class=\"sk-toggleable__label sk-toggleable__label-arrow\">SimpleImputer</label><div class=\"sk-toggleable__content\"><pre>SimpleImputer(strategy=&#x27;median&#x27;)</pre></div></div></div><div class=\"sk-item\"><div class=\"sk-estimator sk-toggleable\"><input class=\"sk-toggleable__control sk-hidden--visually\" id=\"sk-estimator-id-11\" type=\"checkbox\" ><label for=\"sk-estimator-id-11\" class=\"sk-toggleable__label sk-toggleable__label-arrow\">StandardScaler</label><div class=\"sk-toggleable__content\"><pre>StandardScaler()</pre></div></div></div></div></div></div></div></div><div class=\"sk-parallel-item\"><div class=\"sk-item\"><div class=\"sk-label-container\"><div class=\"sk-label sk-toggleable\"><input class=\"sk-toggleable__control sk-hidden--visually\" id=\"sk-estimator-id-12\" type=\"checkbox\" ><label for=\"sk-estimator-id-12\" class=\"sk-toggleable__label sk-toggleable__label-arrow\">cat</label><div class=\"sk-toggleable__content\"><pre>[&#x27;Type&#x27;]</pre></div></div></div><div class=\"sk-serial\"><div class=\"sk-item\"><div class=\"sk-serial\"><div class=\"sk-item\"><div class=\"sk-estimator sk-toggleable\"><input class=\"sk-toggleable__control sk-hidden--visually\" id=\"sk-estimator-id-13\" type=\"checkbox\" ><label for=\"sk-estimator-id-13\" class=\"sk-toggleable__label sk-toggleable__label-arrow\">SimpleImputer</label><div class=\"sk-toggleable__content\"><pre>SimpleImputer(strategy=&#x27;most_frequent&#x27;)</pre></div></div></div><div class=\"sk-item\"><div class=\"sk-estimator sk-toggleable\"><input class=\"sk-toggleable__control sk-hidden--visually\" id=\"sk-estimator-id-14\" type=\"checkbox\" ><label for=\"sk-estimator-id-14\" class=\"sk-toggleable__label sk-toggleable__label-arrow\">OneHotEncoder</label><div class=\"sk-toggleable__content\"><pre>OneHotEncoder()</pre></div></div></div></div></div></div></div></div></div></div></div></div>"
      ],
      "text/plain": [
       "ColumnTransformer(transformers=[('num',\n",
       "                                 Pipeline(steps=[('imputer',\n",
       "                                                  SimpleImputer(strategy='median')),\n",
       "                                                 ('scaler', StandardScaler())]),\n",
       "                                 ['Air temperature [K]',\n",
       "                                  'Process temperature [K]',\n",
       "                                  'Rotational speed [rpm]', 'Torque [Nm]',\n",
       "                                  'Tool wear [min]', 'TWF', 'HDF', 'PWF', 'OSF',\n",
       "                                  'RNF']),\n",
       "                                ('cat',\n",
       "                                 Pipeline(steps=[('imputer',\n",
       "                                                  SimpleImputer(strategy='most_frequent')),\n",
       "                                                 ('ohe', OneHotEncoder())]),\n",
       "                                 ['Type'])])"
      ]
     },
     "execution_count": 22,
     "metadata": {},
     "output_type": "execute_result"
    }
   ],
   "source": [
    "from sklearn.preprocessing import OneHotEncoder\n",
    "\n",
    "## create num pipeline \n",
    "\n",
    "num_pipe2 = Pipeline(steps=[('imputer',SimpleImputer(strategy='median')),\n",
    "                             ('scaler',StandardScaler())])\n",
    "\n",
    "cat_pipe2 = Pipeline(steps=[('imputer',SimpleImputer(strategy='most_frequent')),\n",
    "                             ('ohe',OneHotEncoder())])\n",
    "\n",
    "## combine both pipeline\n",
    "\n",
    "pre2 = ColumnTransformer([('num',num_pipe2,con),\n",
    "                           ('cat',cat_pipe2,cat)])\n",
    "pre2\n"
   ]
  },
  {
   "cell_type": "code",
   "execution_count": 23,
   "metadata": {},
   "outputs": [
    {
     "data": {
      "text/plain": [
       "array([[ 0.3958803 , -0.24623038,  0.54541592, ...,  0.        ,\n",
       "         1.        ,  0.        ],\n",
       "       [ 1.46985559,  1.55860483,  1.72030819, ...,  0.        ,\n",
       "         0.        ,  1.        ],\n",
       "       [-0.30220363, -1.04035788,  2.05187289, ...,  0.        ,\n",
       "         1.        ,  0.        ],\n",
       "       ...,\n",
       "       [ 0.34218154,  1.34202461,  0.0264451 , ...,  0.        ,\n",
       "         1.        ,  0.        ],\n",
       "       [ 0.98656671,  0.69228393, -0.52856537, ...,  0.        ,\n",
       "         1.        ,  0.        ],\n",
       "       [-1.59097397, -1.32913151,  0.26430672, ...,  0.        ,\n",
       "         1.        ,  0.        ]])"
      ]
     },
     "execution_count": 23,
     "metadata": {},
     "output_type": "execute_result"
    }
   ],
   "source": [
    "X_pre = pre2.fit_transform(X)\n",
    "X_pre\n"
   ]
  },
  {
   "cell_type": "code",
   "execution_count": 24,
   "metadata": {},
   "outputs": [
    {
     "data": {
      "text/plain": [
       "array(['num__Air temperature [K]', 'num__Process temperature [K]',\n",
       "       'num__Rotational speed [rpm]', 'num__Torque [Nm]',\n",
       "       'num__Tool wear [min]', 'num__TWF', 'num__HDF', 'num__PWF',\n",
       "       'num__OSF', 'num__RNF', 'cat__Type_H', 'cat__Type_L',\n",
       "       'cat__Type_M'], dtype=object)"
      ]
     },
     "execution_count": 24,
     "metadata": {},
     "output_type": "execute_result"
    }
   ],
   "source": [
    "final_cols =pre2.get_feature_names_out()\n",
    "final_cols"
   ]
  },
  {
   "cell_type": "code",
   "execution_count": 25,
   "metadata": {},
   "outputs": [
    {
     "data": {
      "text/html": [
       "<div>\n",
       "<style scoped>\n",
       "    .dataframe tbody tr th:only-of-type {\n",
       "        vertical-align: middle;\n",
       "    }\n",
       "\n",
       "    .dataframe tbody tr th {\n",
       "        vertical-align: top;\n",
       "    }\n",
       "\n",
       "    .dataframe thead th {\n",
       "        text-align: right;\n",
       "    }\n",
       "</style>\n",
       "<table border=\"1\" class=\"dataframe\">\n",
       "  <thead>\n",
       "    <tr style=\"text-align: right;\">\n",
       "      <th></th>\n",
       "      <th>num__Air temperature [K]</th>\n",
       "      <th>num__Process temperature [K]</th>\n",
       "      <th>num__Rotational speed [rpm]</th>\n",
       "      <th>num__Torque [Nm]</th>\n",
       "      <th>num__Tool wear [min]</th>\n",
       "      <th>num__TWF</th>\n",
       "      <th>num__HDF</th>\n",
       "      <th>num__PWF</th>\n",
       "      <th>num__OSF</th>\n",
       "      <th>num__RNF</th>\n",
       "      <th>cat__Type_H</th>\n",
       "      <th>cat__Type_L</th>\n",
       "      <th>cat__Type_M</th>\n",
       "    </tr>\n",
       "  </thead>\n",
       "  <tbody>\n",
       "    <tr>\n",
       "      <th>0</th>\n",
       "      <td>0.395880</td>\n",
       "      <td>-0.246230</td>\n",
       "      <td>0.545416</td>\n",
       "      <td>-0.499711</td>\n",
       "      <td>0.556417</td>\n",
       "      <td>-0.03945</td>\n",
       "      <td>-0.072021</td>\n",
       "      <td>-0.049016</td>\n",
       "      <td>-0.063038</td>\n",
       "      <td>-0.047568</td>\n",
       "      <td>0.0</td>\n",
       "      <td>1.0</td>\n",
       "      <td>0.0</td>\n",
       "    </tr>\n",
       "    <tr>\n",
       "      <th>1</th>\n",
       "      <td>1.469856</td>\n",
       "      <td>1.558605</td>\n",
       "      <td>1.720308</td>\n",
       "      <td>-1.323028</td>\n",
       "      <td>1.494433</td>\n",
       "      <td>-0.03945</td>\n",
       "      <td>-0.072021</td>\n",
       "      <td>-0.049016</td>\n",
       "      <td>-0.063038</td>\n",
       "      <td>-0.047568</td>\n",
       "      <td>0.0</td>\n",
       "      <td>0.0</td>\n",
       "      <td>1.0</td>\n",
       "    </tr>\n",
       "    <tr>\n",
       "      <th>2</th>\n",
       "      <td>-0.302204</td>\n",
       "      <td>-1.040358</td>\n",
       "      <td>2.051873</td>\n",
       "      <td>-1.628831</td>\n",
       "      <td>-1.241447</td>\n",
       "      <td>-0.03945</td>\n",
       "      <td>-0.072021</td>\n",
       "      <td>-0.049016</td>\n",
       "      <td>-0.063038</td>\n",
       "      <td>-0.047568</td>\n",
       "      <td>0.0</td>\n",
       "      <td>1.0</td>\n",
       "      <td>0.0</td>\n",
       "    </tr>\n",
       "    <tr>\n",
       "      <th>3</th>\n",
       "      <td>0.610675</td>\n",
       "      <td>0.692284</td>\n",
       "      <td>0.026445</td>\n",
       "      <td>0.464745</td>\n",
       "      <td>1.447532</td>\n",
       "      <td>-0.03945</td>\n",
       "      <td>-0.072021</td>\n",
       "      <td>-0.049016</td>\n",
       "      <td>-0.063038</td>\n",
       "      <td>-0.047568</td>\n",
       "      <td>0.0</td>\n",
       "      <td>1.0</td>\n",
       "      <td>0.0</td>\n",
       "    </tr>\n",
       "    <tr>\n",
       "      <th>4</th>\n",
       "      <td>-1.000288</td>\n",
       "      <td>-0.679391</td>\n",
       "      <td>0.869773</td>\n",
       "      <td>-0.582043</td>\n",
       "      <td>-1.100744</td>\n",
       "      <td>-0.03945</td>\n",
       "      <td>-0.072021</td>\n",
       "      <td>-0.049016</td>\n",
       "      <td>-0.063038</td>\n",
       "      <td>-0.047568</td>\n",
       "      <td>0.0</td>\n",
       "      <td>0.0</td>\n",
       "      <td>1.0</td>\n",
       "    </tr>\n",
       "    <tr>\n",
       "      <th>...</th>\n",
       "      <td>...</td>\n",
       "      <td>...</td>\n",
       "      <td>...</td>\n",
       "      <td>...</td>\n",
       "      <td>...</td>\n",
       "      <td>...</td>\n",
       "      <td>...</td>\n",
       "      <td>...</td>\n",
       "      <td>...</td>\n",
       "      <td>...</td>\n",
       "      <td>...</td>\n",
       "      <td>...</td>\n",
       "      <td>...</td>\n",
       "    </tr>\n",
       "    <tr>\n",
       "      <th>136424</th>\n",
       "      <td>0.127386</td>\n",
       "      <td>1.053251</td>\n",
       "      <td>0.069693</td>\n",
       "      <td>-0.335048</td>\n",
       "      <td>1.650769</td>\n",
       "      <td>-0.03945</td>\n",
       "      <td>-0.072021</td>\n",
       "      <td>-0.049016</td>\n",
       "      <td>-0.063038</td>\n",
       "      <td>-0.047568</td>\n",
       "      <td>0.0</td>\n",
       "      <td>0.0</td>\n",
       "      <td>1.0</td>\n",
       "    </tr>\n",
       "    <tr>\n",
       "      <th>136425</th>\n",
       "      <td>-1.268781</td>\n",
       "      <td>-1.040358</td>\n",
       "      <td>-0.528565</td>\n",
       "      <td>1.029305</td>\n",
       "      <td>-1.601020</td>\n",
       "      <td>-0.03945</td>\n",
       "      <td>-0.072021</td>\n",
       "      <td>-0.049016</td>\n",
       "      <td>-0.063038</td>\n",
       "      <td>-0.047568</td>\n",
       "      <td>1.0</td>\n",
       "      <td>0.0</td>\n",
       "      <td>0.0</td>\n",
       "    </tr>\n",
       "    <tr>\n",
       "      <th>136426</th>\n",
       "      <td>0.342182</td>\n",
       "      <td>1.342025</td>\n",
       "      <td>0.026445</td>\n",
       "      <td>-0.217431</td>\n",
       "      <td>1.713303</td>\n",
       "      <td>-0.03945</td>\n",
       "      <td>-0.072021</td>\n",
       "      <td>-0.049016</td>\n",
       "      <td>-0.063038</td>\n",
       "      <td>-0.047568</td>\n",
       "      <td>0.0</td>\n",
       "      <td>1.0</td>\n",
       "      <td>0.0</td>\n",
       "    </tr>\n",
       "    <tr>\n",
       "      <th>136427</th>\n",
       "      <td>0.986567</td>\n",
       "      <td>0.692284</td>\n",
       "      <td>-0.528565</td>\n",
       "      <td>0.699979</td>\n",
       "      <td>-0.975676</td>\n",
       "      <td>-0.03945</td>\n",
       "      <td>-0.072021</td>\n",
       "      <td>-0.049016</td>\n",
       "      <td>-0.063038</td>\n",
       "      <td>-0.047568</td>\n",
       "      <td>0.0</td>\n",
       "      <td>1.0</td>\n",
       "      <td>0.0</td>\n",
       "    </tr>\n",
       "    <tr>\n",
       "      <th>136428</th>\n",
       "      <td>-1.590974</td>\n",
       "      <td>-1.329132</td>\n",
       "      <td>0.264307</td>\n",
       "      <td>-0.123338</td>\n",
       "      <td>1.947807</td>\n",
       "      <td>-0.03945</td>\n",
       "      <td>-0.072021</td>\n",
       "      <td>-0.049016</td>\n",
       "      <td>-0.063038</td>\n",
       "      <td>-0.047568</td>\n",
       "      <td>0.0</td>\n",
       "      <td>1.0</td>\n",
       "      <td>0.0</td>\n",
       "    </tr>\n",
       "  </tbody>\n",
       "</table>\n",
       "<p>136429 rows × 13 columns</p>\n",
       "</div>"
      ],
      "text/plain": [
       "        num__Air temperature [K]  num__Process temperature [K]  \\\n",
       "0                       0.395880                     -0.246230   \n",
       "1                       1.469856                      1.558605   \n",
       "2                      -0.302204                     -1.040358   \n",
       "3                       0.610675                      0.692284   \n",
       "4                      -1.000288                     -0.679391   \n",
       "...                          ...                           ...   \n",
       "136424                  0.127386                      1.053251   \n",
       "136425                 -1.268781                     -1.040358   \n",
       "136426                  0.342182                      1.342025   \n",
       "136427                  0.986567                      0.692284   \n",
       "136428                 -1.590974                     -1.329132   \n",
       "\n",
       "        num__Rotational speed [rpm]  num__Torque [Nm]  num__Tool wear [min]  \\\n",
       "0                          0.545416         -0.499711              0.556417   \n",
       "1                          1.720308         -1.323028              1.494433   \n",
       "2                          2.051873         -1.628831             -1.241447   \n",
       "3                          0.026445          0.464745              1.447532   \n",
       "4                          0.869773         -0.582043             -1.100744   \n",
       "...                             ...               ...                   ...   \n",
       "136424                     0.069693         -0.335048              1.650769   \n",
       "136425                    -0.528565          1.029305             -1.601020   \n",
       "136426                     0.026445         -0.217431              1.713303   \n",
       "136427                    -0.528565          0.699979             -0.975676   \n",
       "136428                     0.264307         -0.123338              1.947807   \n",
       "\n",
       "        num__TWF  num__HDF  num__PWF  num__OSF  num__RNF  cat__Type_H  \\\n",
       "0       -0.03945 -0.072021 -0.049016 -0.063038 -0.047568          0.0   \n",
       "1       -0.03945 -0.072021 -0.049016 -0.063038 -0.047568          0.0   \n",
       "2       -0.03945 -0.072021 -0.049016 -0.063038 -0.047568          0.0   \n",
       "3       -0.03945 -0.072021 -0.049016 -0.063038 -0.047568          0.0   \n",
       "4       -0.03945 -0.072021 -0.049016 -0.063038 -0.047568          0.0   \n",
       "...          ...       ...       ...       ...       ...          ...   \n",
       "136424  -0.03945 -0.072021 -0.049016 -0.063038 -0.047568          0.0   \n",
       "136425  -0.03945 -0.072021 -0.049016 -0.063038 -0.047568          1.0   \n",
       "136426  -0.03945 -0.072021 -0.049016 -0.063038 -0.047568          0.0   \n",
       "136427  -0.03945 -0.072021 -0.049016 -0.063038 -0.047568          0.0   \n",
       "136428  -0.03945 -0.072021 -0.049016 -0.063038 -0.047568          0.0   \n",
       "\n",
       "        cat__Type_L  cat__Type_M  \n",
       "0               1.0          0.0  \n",
       "1               0.0          1.0  \n",
       "2               1.0          0.0  \n",
       "3               1.0          0.0  \n",
       "4               0.0          1.0  \n",
       "...             ...          ...  \n",
       "136424          0.0          1.0  \n",
       "136425          0.0          0.0  \n",
       "136426          1.0          0.0  \n",
       "136427          1.0          0.0  \n",
       "136428          1.0          0.0  \n",
       "\n",
       "[136429 rows x 13 columns]"
      ]
     },
     "execution_count": 25,
     "metadata": {},
     "output_type": "execute_result"
    }
   ],
   "source": [
    "X_pre = pd.DataFrame(X_pre,columns=final_cols)\n",
    "X_pre"
   ]
  },
  {
   "cell_type": "markdown",
   "metadata": {},
   "source": [
    "### Apply train test"
   ]
  },
  {
   "cell_type": "code",
   "execution_count": 27,
   "metadata": {},
   "outputs": [],
   "source": [
    "from sklearn.model_selection import train_test_split\n",
    "xtrain,xtest,ytrain,ytest = train_test_split(X_pre,Y,test_size=0.2,random_state=42)"
   ]
  },
  {
   "cell_type": "code",
   "execution_count": 29,
   "metadata": {},
   "outputs": [
    {
     "data": {
      "text/plain": [
       "(109143, 13)"
      ]
     },
     "execution_count": 29,
     "metadata": {},
     "output_type": "execute_result"
    }
   ],
   "source": [
    "xtrain.shape"
   ]
  },
  {
   "cell_type": "code",
   "execution_count": 30,
   "metadata": {},
   "outputs": [
    {
     "data": {
      "text/plain": [
       "(109143, 1)"
      ]
     },
     "execution_count": 30,
     "metadata": {},
     "output_type": "execute_result"
    }
   ],
   "source": [
    "ytrain.shape"
   ]
  },
  {
   "cell_type": "code",
   "execution_count": 31,
   "metadata": {},
   "outputs": [
    {
     "data": {
      "text/plain": [
       "(27286, 13)"
      ]
     },
     "execution_count": 31,
     "metadata": {},
     "output_type": "execute_result"
    }
   ],
   "source": [
    "xtest.shape"
   ]
  },
  {
   "cell_type": "markdown",
   "metadata": {},
   "source": [
    "### Algorithm evaluation"
   ]
  },
  {
   "cell_type": "code",
   "execution_count": 32,
   "metadata": {},
   "outputs": [],
   "source": [
    "from sklearn.linear_model import LogisticRegression\n",
    "from sklearn.tree import DecisionTreeClassifier\n",
    "from sklearn.ensemble import RandomForestClassifier,GradientBoostingClassifier"
   ]
  },
  {
   "cell_type": "code",
   "execution_count": 33,
   "metadata": {},
   "outputs": [],
   "source": [
    "## skipped SVM and KNN as they are not suitable for large dataset"
   ]
  },
  {
   "cell_type": "code",
   "execution_count": null,
   "metadata": {},
   "outputs": [],
   "source": []
  }
 ],
 "metadata": {
  "kernelspec": {
   "display_name": "venv",
   "language": "python",
   "name": "python3"
  },
  "language_info": {
   "codemirror_mode": {
    "name": "ipython",
    "version": 3
   },
   "file_extension": ".py",
   "mimetype": "text/x-python",
   "name": "python",
   "nbconvert_exporter": "python",
   "pygments_lexer": "ipython3",
   "version": "3.8.8"
  }
 },
 "nbformat": 4,
 "nbformat_minor": 2
}
